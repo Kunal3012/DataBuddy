{
 "cells": [
  {
   "cell_type": "markdown",
   "id": "e63c5ad1",
   "metadata": {},
   "source": [
    "# Model Training Notebook\n",
    "This notebook is responsible for training machine learning models using the dataset provided."
   ]
  },
  {
   "cell_type": "code",
   "execution_count": null,
   "id": "474e08fd",
   "metadata": {},
   "outputs": [],
   "source": [
    "# Import Required Libraries\n",
    "import pandas as pd\n",
    "from sklearn.model_selection import train_test_split\n",
    "from sklearn.ensemble import RandomForestClassifier\n",
    "from sklearn.linear_model import LogisticRegression\n",
    "from sklearn.metrics import accuracy_score\n",
    "from ipywidgets import Checkbox, Dropdown, VBox, Button, Output\n",
    "from IPython.display import display"
   ]
  },
  {
   "cell_type": "markdown",
   "id": "081326db",
   "metadata": {},
   "source": [
    "## Load Dataset\n",
    "Load the dataset saved in the temporary file."
   ]
  },
  {
   "cell_type": "code",
   "execution_count": null,
   "id": "4b224c03",
   "metadata": {},
   "outputs": [],
   "source": [
    "# Load Dataset\n",
    "dataset_file = '/home/sky/Desktop/DataBuddy/temp_dataset.pkl'\n",
    "with open(dataset_file, 'rb') as f:\n",
    "    df = pd.read_pickle(f)\n",
    "print('Dataset loaded successfully!')\n",
    "df.head()"
   ]
  },
  {
   "cell_type": "markdown",
   "id": "cb5b5c56",
   "metadata": {},
   "source": [
    "## Select Columns for Model Training\n",
    "Use checkboxes to select the columns to include in the model training."
   ]
  },
  {
   "cell_type": "code",
   "execution_count": null,
   "id": "f0d2a7e8",
   "metadata": {},
   "outputs": [],
   "source": [
    "# Create checkboxes for column selection\n",
    "output = Output()\n",
    "checkboxes = [Checkbox(value=True, description=col) for col in df.columns]\n",
    "select_button = Button(description='Select Columns')\n",
    "\n",
    "def select_columns(_):\n",
    "    selected_columns = [cb.description for cb in checkboxes if cb.value]\n",
    "    global selected_df\n",
    "    selected_df = df[selected_columns]\n",
    "    with output:\n",
    "        output.clear_output()\n",
    "        print('Selected Columns:', selected_columns)\n",
    "        display(selected_df.head())\n",
    "\n",
    "select_button.on_click(select_columns)\n",
    "display(VBox(checkboxes + [select_button, output]))"
   ]
  },
  {
   "cell_type": "markdown",
   "id": "7eab85bd",
   "metadata": {},
   "source": [
    "## Select Train-Test Split Ratio\n",
    "Use a dropdown to select the train-test split ratio."
   ]
  },
  {
   "cell_type": "code",
   "execution_count": null,
   "id": "f73160ba",
   "metadata": {},
   "outputs": [],
   "source": [
    "# Dropdown for train-test split ratio\n",
    "split_dropdown = Dropdown(options=['80-20', '70-30', '60-40'], description='Train-Test Split:')\n",
    "split_button = Button(description='Set Split Ratio')\n",
    "\n",
    "def set_split_ratio(_):\n",
    "    ratio = split_dropdown.value.split('-')\n",
    "    global train_ratio, test_ratio\n",
    "    train_ratio, test_ratio = int(ratio[0]) / 100, int(ratio[1]) / 100\n",
    "    with output:\n",
    "        output.clear_output()\n",
    "        print(f'Train-Test Split Ratio set to {train_ratio * 100:.0f}-{test_ratio * 100:.0f}')\n",
    "\n",
    "split_button.on_click(set_split_ratio)\n",
    "display(VBox([split_dropdown, split_button, output]))"
   ]
  },
  {
   "cell_type": "markdown",
   "id": "39331283",
   "metadata": {},
   "source": [
    "## Select Input and Target Variables\n",
    "Use dropdowns to select the input and target variables."
   ]
  },
  {
   "cell_type": "code",
   "execution_count": null,
   "id": "45ec3138",
   "metadata": {},
   "outputs": [],
   "source": [
    "# Dropdowns for input and target variable selection\n",
    "input_dropdown = Dropdown(options=selected_df.columns, description='Input Variable:')\n",
    "target_dropdown = Dropdown(options=selected_df.columns, description='Target Variable:')\n",
    "variable_button = Button(description='Set Variables')\n",
    "\n",
    "def set_variables(_):\n",
    "    global input_variable, target_variable\n",
    "    input_variable = input_dropdown.value\n",
    "    target_variable = target_dropdown.value\n",
    "    with output:\n",
    "        output.clear_output()\n",
    "        print(f'Input Variable: {input_variable}, Target Variable: {target_variable}')\n",
    "\n",
    "variable_button.on_click(set_variables)\n",
    "display(VBox([input_dropdown, target_dropdown, variable_button, output]))"
   ]
  },
  {
   "cell_type": "markdown",
   "id": "287b1fcf",
   "metadata": {},
   "source": [
    "## Select Model Type\n",
    "Use a dropdown to select the type of model to train."
   ]
  },
  {
   "cell_type": "code",
   "execution_count": null,
   "id": "109e3206",
   "metadata": {},
   "outputs": [],
   "source": [
    "# Dropdown for model type selection\n",
    "model_dropdown = Dropdown(options=['Random Forest', 'Logistic Regression'], description='Model Type:')\n",
    "model_button = Button(description='Set Model Type')\n",
    "\n",
    "def set_model_type(_):\n",
    "    global model_type\n",
    "    model_type = model_dropdown.value\n",
    "    with output:\n",
    "        output.clear_output()\n",
    "        print(f'Model Type set to: {model_type}')\n",
    "\n",
    "model_button.on_click(set_model_type)\n",
    "display(VBox([model_dropdown, model_button, output]))"
   ]
  },
  {
   "cell_type": "markdown",
   "id": "8c134c34",
   "metadata": {},
   "source": [
    "## Train and Evaluate Model\n",
    "Train the selected model and evaluate its performance."
   ]
  },
  {
   "cell_type": "code",
   "execution_count": null,
   "id": "691d0d99",
   "metadata": {},
   "outputs": [],
   "source": [
    "# Evaluate Model\n",
    "y_pred = model.predict(X_test)\n",
    "accuracy = accuracy_score(y_test, y_pred)\n",
    "print(f'Model Accuracy: {accuracy * 100:.2f}%')"
   ]
  }
 ],
 "metadata": {
  "language_info": {
   "name": "python"
  }
 },
 "nbformat": 4,
 "nbformat_minor": 5
}
